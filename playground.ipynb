{
 "cells": [
  {
   "cell_type": "code",
   "execution_count": 1,
   "id": "6e109316-603e-4a79-94f6-9d7560197511",
   "metadata": {},
   "outputs": [],
   "source": [
    "import os\n",
    "os.environ[\"CUDA_VISIBLE_DEVICES\"] = \"2\""
   ]
  },
  {
   "cell_type": "code",
   "execution_count": 2,
   "id": "900d6a13-d1a0-4926-b3b8-050e06c803ee",
   "metadata": {},
   "outputs": [],
   "source": [
    "import numpy as np\n",
    "import math\n",
    "\n",
    "import torch\n",
    "import torch.nn as nn\n",
    "from torch.nn import functional as F\n",
    "\n",
    "from tqdm.auto import tqdm\n",
    "\n",
    "import matplotlib.pyplot as plt"
   ]
  },
  {
   "cell_type": "code",
   "execution_count": 3,
   "id": "d6a31056-b6cb-4584-8084-37d07f3b93d4",
   "metadata": {},
   "outputs": [],
   "source": [
    "device = torch.device(\"cuda:0\" if torch.cuda.is_available() else \"cpu\")"
   ]
  },
  {
   "cell_type": "code",
   "execution_count": 5,
   "id": "e0bb81f1-f9bb-4cd8-ac6e-37998d83f9d9",
   "metadata": {},
   "outputs": [],
   "source": [
    "# не люблю такие названия, но хотел сделать точь-в-точь как в статье, чтобы и мне было удобнее разбираться\n",
    "def get_data(T=3, n=10_000, S=0.999):\n",
    "    data = torch.rand(n, T)\n",
    "    mask = data < S\n",
    "    data[mask] = 0\n",
    "\n",
    "    # нормализация\n",
    "    data = data / torch.norm(data, dim=0, keepdim=True)\n",
    "    return data\n",
    "\n",
    "\n",
    "def criterion(x, x_hat):\n",
    "    return torch.sum((x - x_hat)**2) / x.shape[1]"
   ]
  },
  {
   "cell_type": "code",
   "execution_count": 6,
   "id": "a179c10a-3579-4b70-ad25-780853ef5390",
   "metadata": {},
   "outputs": [],
   "source": [
    "class ToyModel(nn.Module):\n",
    "    def __init__(self, n=10_000, m=2):\n",
    "        super().__init__()\n",
    "        self.w = nn.Parameter(torch.empty(m, n))\n",
    "        nn.init.xavier_uniform_(self.w)\n",
    "        self.b = nn.Parameter(torch.zeros(n, 1))\n",
    "        \n",
    "        self.relu = nn.ReLU()\n",
    "\n",
    "    def forward(self, x, return_hidden_state=False):\n",
    "        # m n, n T -> m T\n",
    "        x = self.w @ x\n",
    "        if return_hidden_state:\n",
    "            return x\n",
    "        # n m, m T -> n T\n",
    "        x = self.w.T @ x + self.b\n",
    "        x = self.relu(x)\n",
    "        return x"
   ]
  },
  {
   "cell_type": "code",
   "execution_count": 7,
   "id": "b1277b93-2768-46e2-8544-8aeddc8de302",
   "metadata": {},
   "outputs": [
    {
     "data": {
      "text/plain": [
       "tensor([[0., 0., 0., 0., 0.],\n",
       "        [0., 0., 0., 0., 0.],\n",
       "        [0., 0., 0., 0., 0.],\n",
       "        ...,\n",
       "        [0., 0., 0., 0., 0.],\n",
       "        [0., 0., 0., 0., 0.],\n",
       "        [0., 0., 0., 0., 0.]])"
      ]
     },
     "execution_count": 7,
     "metadata": {},
     "output_type": "execute_result"
    }
   ],
   "source": [
    "data = get_data(T=5)\n",
    "data"
   ]
  },
  {
   "cell_type": "code",
   "execution_count": 8,
   "id": "6c006c98-b507-4f7a-8214-ab16f859e2a1",
   "metadata": {},
   "outputs": [],
   "source": [
    "model = ToyModel(n=10_000, m=2)"
   ]
  },
  {
   "cell_type": "code",
   "execution_count": 9,
   "id": "9d05ce27-091b-4059-bfe1-416bcbc1252b",
   "metadata": {},
   "outputs": [],
   "source": [
    "def train(model, data, lr=1e-3, num_steps=50_000, warmup_steps=2_500, device=\"cpu\"):\n",
    "    model.to(device)\n",
    "    data = data.to(device)\n",
    "    \n",
    "    optimizer = torch.optim.AdamW(model.parameters(), weight_decay=1e-2)\n",
    "    # warmup_func = lambda x: x / warmup_steps\n",
    "    # decay_func = lambda x: 0.5 * (1 + math.cos(math.pi * (x - warmup_steps) / (num_steps - warmup_steps)))\n",
    "    # lr_scheduler = torch.optim.lr_scheduler.LambdaLR(optimizer, lr_lambda=lambda x: warmup_func(x) if x <= warmup_steps else decay_func(x))\n",
    "    def lr_lambda(step):\n",
    "        if step < warmup_steps:\n",
    "            return step / warmup_steps\n",
    "        progress = (step - warmup_steps) / (num_steps - warmup_steps)\n",
    "        return 0.5 * (1 + math.cos(math.pi * progress))\n",
    "\n",
    "    scheduler = torch.optim.lr_scheduler.LambdaLR(optimizer, lr_lambda=lr_lambda)\n",
    "\n",
    "    T = data.shape[1]\n",
    "    for step in tqdm(range(num_steps), leave=False, desc=f\"running for T={T}\"):\n",
    "        optimizer.zero_grad()\n",
    "        outputs = model(data)\n",
    "        loss = criterion(data, outputs)\n",
    "        loss.backward()\n",
    "        optimizer.step()\n",
    "        scheduler.step()\n",
    "\n",
    "    \n",
    "    torch.save(model.state_dict(), f'models/model_T{T}.pt')\n",
    "    return model\n",
    "\n",
    "    # # test\n",
    "    # test_data = get_data(1000).to(device)\n",
    "    # with torch.no_grad():\n",
    "    #     x_hat = model(test_data)\n",
    "    #     l = loss(test_data, x_hat)\n",
    "    #     print('test loss', l.item())"
   ]
  },
  {
   "cell_type": "code",
   "execution_count": 9,
   "id": "0a43a5d0-181d-40b4-a8e9-0251cb6095fb",
   "metadata": {},
   "outputs": [
    {
     "ename": "TypeError",
     "evalue": "train() missing 1 required positional argument: 'data'",
     "output_type": "error",
     "traceback": [
      "\u001b[0;31m---------------------------------------------------------------------------\u001b[0m",
      "\u001b[0;31mTypeError\u001b[0m                                 Traceback (most recent call last)",
      "Cell \u001b[0;32mIn[9], line 1\u001b[0m\n\u001b[0;32m----> 1\u001b[0m train(data, device\u001b[38;5;241m=\u001b[39m\u001b[38;5;124m\"\u001b[39m\u001b[38;5;124mcuda\u001b[39m\u001b[38;5;124m\"\u001b[39m)\n",
      "\u001b[0;31mTypeError\u001b[0m: train() missing 1 required positional argument: 'data'"
     ]
    }
   ],
   "source": [
    "train(data, device=\"cuda\")"
   ]
  },
  {
   "cell_type": "code",
   "execution_count": 10,
   "id": "f86c62a3-5689-4c72-8bec-e6ae4e7945e2",
   "metadata": {},
   "outputs": [],
   "source": [
    "def get_fractional_dimensions(h):\n",
    "    h_norms = torch.norm(h, dim=0)\n",
    "    h_unit = h / h_norms\n",
    "    projections = (h_unit.T @ h) ** 2\n",
    "    numerators = h_norms ** 2\n",
    "    denominators = projections.sum(dim=1)\n",
    "    return (numerators / denominators).tolist()\n",
    "\n",
    "def plot_vectors(vectors, T, color, prefix):\n",
    "    vectors = vectors.detach().cpu() if torch.is_tensor(vectors) else vectors\n",
    "    x, y = vectors[0], vectors[1]\n",
    "\n",
    "    plt.figure(figsize=(10, 10))\n",
    "    limit = max(abs(x).max(), abs(y).max())\n",
    "    plt.xlim(-limit, limit)\n",
    "    plt.ylim(-limit, limit)\n",
    "\n",
    "    plt.plot(x, y, 'o', color=color)\n",
    "    for xi, yi in zip(x, y):\n",
    "        plt.plot([0, xi], [0, yi], color=color)\n",
    "\n",
    "    plt.savefig(f'assets/{prefix}_{T}.png')\n",
    "    # plt.show()\n",
    "    plt.close()\n",
    "\n",
    "def plot_model_features(model, T):\n",
    "    W = model.w\n",
    "    plot_vectors(W, T, color='blue', prefix='feats')\n",
    "    return get_fractional_dimensions(W)\n",
    "\n",
    "def plot_hidden_states(data, model, T):\n",
    "    with torch.no_grad():\n",
    "        h = model(data, return_hidden_state=True)\n",
    "    plot_vectors(h, T, color='red', prefix='sample')\n",
    "    return get_fractional_dimensions(h)\n"
   ]
  },
  {
   "cell_type": "code",
   "execution_count": 11,
   "id": "3865be19-56ef-4b61-9405-1d8084746b67",
   "metadata": {},
   "outputs": [],
   "source": [
    "ts = [3, 5, 6, 8, 10, 15, 30, 50, 100, 200, 500, 1000, 2000, 5000, 10000, 20000, 50000, 100000, 200000]"
   ]
  },
  {
   "cell_type": "code",
   "execution_count": 16,
   "id": "c82b39ae-1d5c-4069-96d3-5d18c9b21c54",
   "metadata": {},
   "outputs": [],
   "source": [
    "# def run_experiment(T):\n",
    "#     train_data = get_data(T=T)\n",
    "#     model = ToyModel()\n",
    "\n",
    "#     train(model, train_data, device=\"cuda\")\n",
    "\n",
    "#     train_data = train_data.to(device)\n",
    "#     model_features = plot_model_features(model, T)\n",
    "#     hidden_states = plot_hidden_states(train_data, model, T)\n",
    "#     return model_features, hidden_states\n",
    "\n",
    "def run_experiment(T, seed=69):\n",
    "    torch.manual_seed(seed)\n",
    "    \n",
    "    n = 10_000\n",
    "    train_data = get_data(T=T, n=n)\n",
    "\n",
    "    test_data = get_data(T=1000, n=n)\n",
    "\n",
    "    model = ToyModel(n=n)\n",
    "    device = \"cuda\"\n",
    "    train(model, train_data, device=device)\n",
    "\n",
    "    train_data = train_data.to(device)\n",
    "    test_data = test_data.to(device)\n",
    "\n",
    "    model_features = plot_model_features(model, T)\n",
    "    hidden_states = plot_hidden_states(train_data, model, T)\n",
    "\n",
    "    with torch.no_grad():\n",
    "        x_hat = model(test_data)\n",
    "        loss = criterion(test_data, x_hat)\n",
    "        print(f'test loss: {loss.item():.6f}')\n",
    "\n",
    "    return model_features, hidden_states, loss.item()"
   ]
  },
  {
   "cell_type": "code",
   "execution_count": 13,
   "id": "e1cebb74-f214-4f1a-b440-d9f60aca566a",
   "metadata": {},
   "outputs": [
    {
     "data": {
      "application/vnd.jupyter.widget-view+json": {
       "model_id": "",
       "version_major": 2,
       "version_minor": 0
      },
      "text/plain": [
       "running for T=3:   0%|          | 0/50000 [00:00<?, ?it/s]"
      ]
     },
     "metadata": {},
     "output_type": "display_data"
    },
    {
     "name": "stdout",
     "output_type": "stream",
     "text": [
      "test loss: 1.128925\n"
     ]
    }
   ],
   "source": [
    "model_features, hidden_states, loss = run_experiment(3)"
   ]
  },
  {
   "cell_type": "code",
   "execution_count": 14,
   "id": "3cb3783a-bc0b-4f3b-b2df-2ae1874b8277",
   "metadata": {},
   "outputs": [
    {
     "data": {
      "text/plain": [
       "1.1289252042770386"
      ]
     },
     "execution_count": 14,
     "metadata": {},
     "output_type": "execute_result"
    }
   ],
   "source": [
    "loss"
   ]
  },
  {
   "cell_type": "code",
   "execution_count": 17,
   "id": "8e9c7b3b-e65a-41cc-85d9-5703900f5697",
   "metadata": {},
   "outputs": [
    {
     "data": {
      "application/vnd.jupyter.widget-view+json": {
       "model_id": "0db27c201ee042e492b26eb593c6148f",
       "version_major": 2,
       "version_minor": 0
      },
      "text/plain": [
       "  0%|          | 0/19 [00:00<?, ?it/s]"
      ]
     },
     "metadata": {},
     "output_type": "display_data"
    },
    {
     "data": {
      "application/vnd.jupyter.widget-view+json": {
       "model_id": "",
       "version_major": 2,
       "version_minor": 0
      },
      "text/plain": [
       "running for T=3:   0%|          | 0/50000 [00:00<?, ?it/s]"
      ]
     },
     "metadata": {},
     "output_type": "display_data"
    },
    {
     "name": "stdout",
     "output_type": "stream",
     "text": [
      "test loss: 1.111024\n"
     ]
    },
    {
     "data": {
      "application/vnd.jupyter.widget-view+json": {
       "model_id": "",
       "version_major": 2,
       "version_minor": 0
      },
      "text/plain": [
       "running for T=5:   0%|          | 0/50000 [00:00<?, ?it/s]"
      ]
     },
     "metadata": {},
     "output_type": "display_data"
    },
    {
     "name": "stdout",
     "output_type": "stream",
     "text": [
      "test loss: 1.000000\n"
     ]
    },
    {
     "data": {
      "application/vnd.jupyter.widget-view+json": {
       "model_id": "",
       "version_major": 2,
       "version_minor": 0
      },
      "text/plain": [
       "running for T=6:   0%|          | 0/50000 [00:00<?, ?it/s]"
      ]
     },
     "metadata": {},
     "output_type": "display_data"
    },
    {
     "name": "stdout",
     "output_type": "stream",
     "text": [
      "test loss: 1.000000\n"
     ]
    },
    {
     "data": {
      "application/vnd.jupyter.widget-view+json": {
       "model_id": "",
       "version_major": 2,
       "version_minor": 0
      },
      "text/plain": [
       "running for T=8:   0%|          | 0/50000 [00:00<?, ?it/s]"
      ]
     },
     "metadata": {},
     "output_type": "display_data"
    },
    {
     "name": "stdout",
     "output_type": "stream",
     "text": [
      "test loss: 1.000000\n"
     ]
    },
    {
     "data": {
      "application/vnd.jupyter.widget-view+json": {
       "model_id": "",
       "version_major": 2,
       "version_minor": 0
      },
      "text/plain": [
       "running for T=10:   0%|          | 0/50000 [00:00<?, ?it/s]"
      ]
     },
     "metadata": {},
     "output_type": "display_data"
    },
    {
     "name": "stdout",
     "output_type": "stream",
     "text": [
      "test loss: 1.000000\n"
     ]
    },
    {
     "data": {
      "application/vnd.jupyter.widget-view+json": {
       "model_id": "",
       "version_major": 2,
       "version_minor": 0
      },
      "text/plain": [
       "running for T=15:   0%|          | 0/50000 [00:00<?, ?it/s]"
      ]
     },
     "metadata": {},
     "output_type": "display_data"
    },
    {
     "name": "stdout",
     "output_type": "stream",
     "text": [
      "test loss: 1.100953\n"
     ]
    },
    {
     "data": {
      "application/vnd.jupyter.widget-view+json": {
       "model_id": "",
       "version_major": 2,
       "version_minor": 0
      },
      "text/plain": [
       "running for T=30:   0%|          | 0/50000 [00:00<?, ?it/s]"
      ]
     },
     "metadata": {},
     "output_type": "display_data"
    },
    {
     "name": "stdout",
     "output_type": "stream",
     "text": [
      "test loss: 1.006797\n"
     ]
    },
    {
     "data": {
      "application/vnd.jupyter.widget-view+json": {
       "model_id": "",
       "version_major": 2,
       "version_minor": 0
      },
      "text/plain": [
       "running for T=50:   0%|          | 0/50000 [00:00<?, ?it/s]"
      ]
     },
     "metadata": {},
     "output_type": "display_data"
    },
    {
     "name": "stdout",
     "output_type": "stream",
     "text": [
      "test loss: 1.004270\n"
     ]
    },
    {
     "data": {
      "application/vnd.jupyter.widget-view+json": {
       "model_id": "",
       "version_major": 2,
       "version_minor": 0
      },
      "text/plain": [
       "running for T=100:   0%|          | 0/50000 [00:00<?, ?it/s]"
      ]
     },
     "metadata": {},
     "output_type": "display_data"
    },
    {
     "name": "stdout",
     "output_type": "stream",
     "text": [
      "test loss: 1.001842\n"
     ]
    },
    {
     "data": {
      "application/vnd.jupyter.widget-view+json": {
       "model_id": "",
       "version_major": 2,
       "version_minor": 0
      },
      "text/plain": [
       "running for T=200:   0%|          | 0/50000 [00:00<?, ?it/s]"
      ]
     },
     "metadata": {},
     "output_type": "display_data"
    },
    {
     "name": "stdout",
     "output_type": "stream",
     "text": [
      "test loss: 1.000869\n"
     ]
    },
    {
     "data": {
      "application/vnd.jupyter.widget-view+json": {
       "model_id": "",
       "version_major": 2,
       "version_minor": 0
      },
      "text/plain": [
       "running for T=500:   0%|          | 0/50000 [00:00<?, ?it/s]"
      ]
     },
     "metadata": {},
     "output_type": "display_data"
    },
    {
     "name": "stdout",
     "output_type": "stream",
     "text": [
      "test loss: 2.435149\n"
     ]
    },
    {
     "data": {
      "application/vnd.jupyter.widget-view+json": {
       "model_id": "",
       "version_major": 2,
       "version_minor": 0
      },
      "text/plain": [
       "running for T=1000:   0%|          | 0/50000 [00:00<?, ?it/s]"
      ]
     },
     "metadata": {},
     "output_type": "display_data"
    },
    {
     "name": "stdout",
     "output_type": "stream",
     "text": [
      "test loss: 66.260345\n"
     ]
    },
    {
     "data": {
      "application/vnd.jupyter.widget-view+json": {
       "model_id": "",
       "version_major": 2,
       "version_minor": 0
      },
      "text/plain": [
       "running for T=2000:   0%|          | 0/50000 [00:00<?, ?it/s]"
      ]
     },
     "metadata": {},
     "output_type": "display_data"
    },
    {
     "name": "stdout",
     "output_type": "stream",
     "text": [
      "test loss: 514.331360\n"
     ]
    },
    {
     "data": {
      "application/vnd.jupyter.widget-view+json": {
       "model_id": "",
       "version_major": 2,
       "version_minor": 0
      },
      "text/plain": [
       "running for T=5000:   0%|          | 0/50000 [00:00<?, ?it/s]"
      ]
     },
     "metadata": {},
     "output_type": "display_data"
    },
    {
     "name": "stdout",
     "output_type": "stream",
     "text": [
      "test loss: 289.281036\n"
     ]
    },
    {
     "data": {
      "application/vnd.jupyter.widget-view+json": {
       "model_id": "",
       "version_major": 2,
       "version_minor": 0
      },
      "text/plain": [
       "running for T=10000:   0%|          | 0/50000 [00:00<?, ?it/s]"
      ]
     },
     "metadata": {},
     "output_type": "display_data"
    },
    {
     "name": "stdout",
     "output_type": "stream",
     "text": [
      "test loss: nan\n"
     ]
    },
    {
     "data": {
      "application/vnd.jupyter.widget-view+json": {
       "model_id": "",
       "version_major": 2,
       "version_minor": 0
      },
      "text/plain": [
       "running for T=20000:   0%|          | 0/50000 [00:00<?, ?it/s]"
      ]
     },
     "metadata": {},
     "output_type": "display_data"
    },
    {
     "name": "stdout",
     "output_type": "stream",
     "text": [
      "test loss: 0.998569\n"
     ]
    },
    {
     "data": {
      "application/vnd.jupyter.widget-view+json": {
       "model_id": "2fef73f1f53f4b7cb74d228a71a136ff",
       "version_major": 2,
       "version_minor": 0
      },
      "text/plain": [
       "running for T=50000:   0%|          | 0/50000 [00:00<?, ?it/s]"
      ]
     },
     "metadata": {},
     "output_type": "display_data"
    },
    {
     "name": "stderr",
     "output_type": "stream",
     "text": [
      "IOPub message rate exceeded.\n",
      "The Jupyter server will temporarily stop sending output\n",
      "to the client in order to avoid crashing it.\n",
      "To change this limit, set the config variable\n",
      "`--ServerApp.iopub_msg_rate_limit`.\n",
      "\n",
      "Current values:\n",
      "ServerApp.iopub_msg_rate_limit=1000.0 (msgs/sec)\n",
      "ServerApp.rate_limit_window=3.0 (secs)\n",
      "\n"
     ]
    },
    {
     "name": "stdout",
     "output_type": "stream",
     "text": [
      "test loss: nan\n"
     ]
    },
    {
     "data": {
      "application/vnd.jupyter.widget-view+json": {
       "model_id": "5aa9f806a2f84ecabf9985307d35023a",
       "version_major": 2,
       "version_minor": 0
      },
      "text/plain": [
       "running for T=200000:   0%|          | 0/50000 [00:00<?, ?it/s]"
      ]
     },
     "metadata": {},
     "output_type": "display_data"
    },
    {
     "name": "stderr",
     "output_type": "stream",
     "text": [
      "IOPub message rate exceeded.\n",
      "The Jupyter server will temporarily stop sending output\n",
      "to the client in order to avoid crashing it.\n",
      "To change this limit, set the config variable\n",
      "`--ServerApp.iopub_msg_rate_limit`.\n",
      "\n",
      "Current values:\n",
      "ServerApp.iopub_msg_rate_limit=1000.0 (msgs/sec)\n",
      "ServerApp.rate_limit_window=3.0 (secs)\n",
      "\n"
     ]
    }
   ],
   "source": [
    "hidden_dims = []\n",
    "feat_dims = []\n",
    "losses = []\n",
    "\n",
    "for t in tqdm(ts):\n",
    "    model_features, hidden_states, test_loss = run_experiment(t)\n",
    "    hidden_dims.append(hidden_states)\n",
    "    feat_dims.append(model_features)\n",
    "    losses.append(test_loss)"
   ]
  },
  {
   "cell_type": "code",
   "execution_count": null,
   "id": "1e3f64c5-c520-4cfe-bd7c-2599a07fb2bc",
   "metadata": {},
   "outputs": [],
   "source": [
    "1"
   ]
  },
  {
   "cell_type": "code",
   "execution_count": 18,
   "id": "721e367a-e1d9-4ae7-b880-a34b1fc52d2f",
   "metadata": {},
   "outputs": [
    {
     "data": {
      "image/png": "[encoded data removed]",
      "text/plain": [
       "<Figure size 1000x1000 with 1 Axes>"
      ]
     },
     "metadata": {},
     "output_type": "display_data"
    }
   ],
   "source": [
    "plt.figure(figsize=(10, 10))\n",
    "\n",
    "for T, h_dim, f_dim in zip(ts, hidden_dims, feat_dims):\n",
    "    plt.scatter([T]*len(h_dim), h_dim, color='red', alpha=0.5)\n",
    "    plt.scatter([T]*len(f_dim), f_dim, color='blue', alpha=0.5)\n",
    "\n",
    "plt.xscale('log')\n",
    "plt.savefig('dims.png')\n",
    "plt.show()\n",
    "plt.close()"
   ]
  },
  {
   "cell_type": "code",
   "execution_count": 19,
   "id": "58c5b72b-7d4a-4940-a94b-4a19068bba01",
   "metadata": {},
   "outputs": [
    {
     "data": {
      "image/png": "[encoded data removed]",
      "text/plain": [
       "<Figure size 800x600 with 1 Axes>"
      ]
     },
     "metadata": {},
     "output_type": "display_data"
    }
   ],
   "source": [
    "plt.figure(figsize=(8, 6))\n",
    "plt.plot(ts[:len(losses)], losses, marker='o')\n",
    "plt.xscale('log')\n",
    "plt.xlabel('T')\n",
    "plt.ylabel('Test Loss')\n",
    "plt.title('Test Loss vs T')\n",
    "plt.grid(True)\n",
    "plt.savefig('loss_vs_T.png')\n",
    "plt.show()\n",
    "plt.close()\n"
   ]
  },
  {
   "cell_type": "code",
   "execution_count": null,
   "id": "bdb58a3d-3007-4857-8d80-bf56fd93dc4a",
   "metadata": {},
   "outputs": [],
   "source": []
  },
  {
   "cell_type": "code",
   "execution_count": null,
   "id": "1bd4ffb0-55e4-47bf-978a-90c1b48b6586",
   "metadata": {},
   "outputs": [],
   "source": []
  }
 ],
 "metadata": {
  "kernelspec": {
   "display_name": "ai_hw",
   "language": "python",
   "name": "ai_hw"
  },
  "language_info": {
   "codemirror_mode": {
    "name": "ipython",
    "version": 3
   },
   "file_extension": ".py",
   "mimetype": "text/x-python",
   "name": "python",
   "nbconvert_exporter": "python",
   "pygments_lexer": "ipython3",
   "version": "3.11.11"
  }
 },
 "nbformat": 4,
 "nbformat_minor": 5
}
